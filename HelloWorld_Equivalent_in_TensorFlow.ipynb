{
  "nbformat": 4,
  "nbformat_minor": 0,
  "metadata": {
    "colab": {
      "provenance": [],
      "gpuType": "T4",
      "include_colab_link": true
    },
    "kernelspec": {
      "name": "python3",
      "display_name": "Python 3"
    },
    "language_info": {
      "name": "python"
    },
    "accelerator": "GPU"
  },
  "cells": [
    {
      "cell_type": "markdown",
      "metadata": {
        "id": "view-in-github",
        "colab_type": "text"
      },
      "source": [
        "<a href=\"https://colab.research.google.com/github/tanaysinghal-10/TensorflowDeveloper/blob/main/HelloWorld_Equivalent_in_TensorFlow.ipynb\" target=\"_parent\"><img src=\"https://colab.research.google.com/assets/colab-badge.svg\" alt=\"Open In Colab\"/></a>"
      ]
    },
    {
      "cell_type": "code",
      "execution_count": null,
      "metadata": {
        "colab": {
          "base_uri": "https://localhost:8080/"
        },
        "id": "UcISUXOoR2wT",
        "outputId": "9dfd9f1e-dbb5-4e5f-b7fd-5439501a14c9"
      },
      "outputs": [
        {
          "output_type": "stream",
          "name": "stdout",
          "text": [
            "2.15.0\n"
          ]
        }
      ],
      "source": [
        "import tensorflow as tf\n",
        "import numpy as np\n",
        "from tensorflow import keras\n",
        "\n",
        "print(tf.__version__)"
      ]
    },
    {
      "cell_type": "markdown",
      "source": [
        "## Defining and Compiling the Neural Network"
      ],
      "metadata": {
        "id": "55eAImhBS8B2"
      }
    },
    {
      "cell_type": "code",
      "source": [
        "# Build a simple Sequential Model\n",
        "model = tf.keras.Sequential([keras.layers.Dense(units=1, input_shape = [1])])"
      ],
      "metadata": {
        "id": "A54RX6CoS6L2"
      },
      "execution_count": null,
      "outputs": []
    },
    {
      "cell_type": "code",
      "source": [
        "# Compile the model\n",
        "model.compile(optimizer='sgd', loss='mean_squared_error')"
      ],
      "metadata": {
        "id": "B5HgpgwjUDig"
      },
      "execution_count": null,
      "outputs": []
    },
    {
      "cell_type": "markdown",
      "source": [
        "## Providing the Data"
      ],
      "metadata": {
        "id": "HYCqT3NcUIxw"
      }
    },
    {
      "cell_type": "code",
      "source": [
        "# Declare the model inputs and outputs for training\n",
        "x = np.array([-1.0, 0.0, 1.0, 2.0, 3.0, 4.0], dtype=float)\n",
        "y = np.array([-3.0, -1.0, 1.0, 3.0, 5.0, 7.0], dtype=float)"
      ],
      "metadata": {
        "id": "LEXVD3VgUOsF"
      },
      "execution_count": null,
      "outputs": []
    },
    {
      "cell_type": "markdown",
      "source": [
        "## Training the Neural Network"
      ],
      "metadata": {
        "id": "m_5TnBY2VTZo"
      }
    },
    {
      "cell_type": "code",
      "source": [
        "# Train the model\n",
        "model.fit(x, y, epochs = 500)"
      ],
      "metadata": {
        "id": "hLPbuDJmVXJA"
      },
      "execution_count": null,
      "outputs": []
    },
    {
      "cell_type": "code",
      "source": [
        "# Making a Prediction\n",
        "print(model.predict([10.0]))"
      ],
      "metadata": {
        "colab": {
          "base_uri": "https://localhost:8080/"
        },
        "id": "yTI1qg1iVoOt",
        "outputId": "10169ec7-dbf1-4215-db84-9dfcd1564c83"
      },
      "execution_count": null,
      "outputs": [
        {
          "output_type": "stream",
          "name": "stdout",
          "text": [
            "1/1 [==============================] - 0s 86ms/step\n",
            "[[18.985052]]\n"
          ]
        }
      ]
    },
    {
      "cell_type": "markdown",
      "source": [
        "## Verfication of Closeness"
      ],
      "metadata": {
        "id": "HCFliR-1b9yV"
      }
    },
    {
      "cell_type": "code",
      "source": [
        "def fun(x):\n",
        "\n",
        "  return (2 * x) - 1;"
      ],
      "metadata": {
        "id": "ShqKdALAb8sE"
      },
      "execution_count": null,
      "outputs": []
    },
    {
      "cell_type": "code",
      "source": [
        "fun(10)"
      ],
      "metadata": {
        "colab": {
          "base_uri": "https://localhost:8080/"
        },
        "id": "DBh1rESycIik",
        "outputId": "a9c1cb48-9a6c-40ae-983b-bc5d5748266f"
      },
      "execution_count": null,
      "outputs": [
        {
          "output_type": "execute_result",
          "data": {
            "text/plain": [
              "19"
            ]
          },
          "metadata": {},
          "execution_count": 9
        }
      ]
    },
    {
      "cell_type": "code",
      "source": [],
      "metadata": {
        "id": "Ny0rymIhcKUs"
      },
      "execution_count": null,
      "outputs": []
    }
  ]
}